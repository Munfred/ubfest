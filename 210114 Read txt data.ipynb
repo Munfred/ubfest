{
 "cells": [
  {
   "cell_type": "code",
   "execution_count": 1,
   "metadata": {},
   "outputs": [
    {
     "name": "stdout",
     "output_type": "stream",
     "text": [
      "Populating the interactive namespace from numpy and matplotlib\n"
     ]
    }
   ],
   "source": [
    "from glob import glob\n",
    "\n",
    "import nltk\n",
    "import pandas as pd\n",
    "from tqdm import tqdm\n",
    "\n",
    "%pylab inline"
   ]
  },
  {
   "cell_type": "code",
   "execution_count": 2,
   "metadata": {},
   "outputs": [],
   "source": [
    "countries = pd.read_csv('../countries.txt', names = ['Country'])\n",
    "countries = countries['Country'].to_list()"
   ]
  },
  {
   "cell_type": "code",
   "execution_count": 3,
   "metadata": {},
   "outputs": [
    {
     "name": "stdout",
     "output_type": "stream",
     "text": [
      " Volume in drive C is NVMe Drive\n",
      " Volume Serial Number is 9ACC-A435\n",
      "\n",
      " Directory of C:\\Users\\vale\\Google Drive\\Blog\\201229 Opinions on countries\\ubfest\n",
      "\n",
      "14/01/2021  21:34    <DIR>          .\n",
      "14/01/2021  21:34    <DIR>          ..\n",
      "14/01/2021  21:33    <DIR>          .ipynb_checkpoints\n",
      "14/01/2021  21:34             2,592 210114 Read txt data.ipynb\n",
      "14/01/2021  21:31    <DIR>          gutenbergtxts\n",
      "14/01/2021  21:31               146 README.md\n",
      "               2 File(s)          2,738 bytes\n",
      "               4 Dir(s)  66,142,441,472 bytes free\n"
     ]
    }
   ],
   "source": [
    "ls"
   ]
  },
  {
   "cell_type": "code",
   "execution_count": 5,
   "metadata": {},
   "outputs": [],
   "source": []
  },
  {
   "cell_type": "code",
   "execution_count": 30,
   "metadata": {},
   "outputs": [
    {
     "name": "stderr",
     "output_type": "stream",
     "text": [
      "100%|████████████████████████████████████████████████████████████████████████████████████████████████████████████████████████████████████████████████████| 67/67 [00:20<00:00,  3.23it/s]\n"
     ]
    }
   ],
   "source": [
    "country_sentences = []\n",
    "\n",
    "for book_name in tqdm(glob('gutenbergtxts/*.txt')):\n",
    "    with open(book_name, encoding = 'utf8') as fh:\n",
    "        book = fh.read()\n",
    "\n",
    "    book = book.replace('\\n', ' ')\n",
    "\n",
    "    sentences = nltk.sent_tokenize(book)\n",
    "\n",
    "    for s in sentences:\n",
    "        for c in countries:\n",
    "            if c in s:\n",
    "                country_sentences.append({\n",
    "                    'country': c,\n",
    "                    'sentence': s,\n",
    "                    'book': book_name\n",
    "                })"
   ]
  },
  {
   "cell_type": "code",
   "execution_count": 33,
   "metadata": {},
   "outputs": [],
   "source": [
    "df = pd.DataFrame(country_sentences)"
   ]
  },
  {
   "cell_type": "code",
   "execution_count": 34,
   "metadata": {},
   "outputs": [
    {
     "data": {
      "text/html": [
       "<div>\n",
       "<style scoped>\n",
       "    .dataframe tbody tr th:only-of-type {\n",
       "        vertical-align: middle;\n",
       "    }\n",
       "\n",
       "    .dataframe tbody tr th {\n",
       "        vertical-align: top;\n",
       "    }\n",
       "\n",
       "    .dataframe thead th {\n",
       "        text-align: right;\n",
       "    }\n",
       "</style>\n",
       "<table border=\"1\" class=\"dataframe\">\n",
       "  <thead>\n",
       "    <tr style=\"text-align: right;\">\n",
       "      <th></th>\n",
       "      <th>country</th>\n",
       "      <th>sentence</th>\n",
       "      <th>book</th>\n",
       "    </tr>\n",
       "  </thead>\n",
       "  <tbody>\n",
       "    <tr>\n",
       "      <th>0</th>\n",
       "      <td>Australia</td>\n",
       "      <td>This is markedly the case in the Australian pa...</td>\n",
       "      <td>gutenbergtxts\\1770 Captain Cook's Journal Duri...</td>\n",
       "    </tr>\n",
       "    <tr>\n",
       "      <th>1</th>\n",
       "      <td>Australia</td>\n",
       "      <td>Cook's names have rarely been altered, and New...</td>\n",
       "      <td>gutenbergtxts\\1770 Captain Cook's Journal Duri...</td>\n",
       "    </tr>\n",
       "    <tr>\n",
       "      <th>2</th>\n",
       "      <td>New Zealand</td>\n",
       "      <td>Cook's names have rarely been altered, and New...</td>\n",
       "      <td>gutenbergtxts\\1770 Captain Cook's Journal Duri...</td>\n",
       "    </tr>\n",
       "    <tr>\n",
       "      <th>3</th>\n",
       "      <td>Australia</td>\n",
       "      <td>In the case of the coast of East Australia, th...</td>\n",
       "      <td>gutenbergtxts\\1770 Captain Cook's Journal Duri...</td>\n",
       "    </tr>\n",
       "    <tr>\n",
       "      <th>4</th>\n",
       "      <td>France</td>\n",
       "      <td>The only fact known is that in May 1755, when ...</td>\n",
       "      <td>gutenbergtxts\\1770 Captain Cook's Journal Duri...</td>\n",
       "    </tr>\n",
       "    <tr>\n",
       "      <th>...</th>\n",
       "      <td>...</td>\n",
       "      <td>...</td>\n",
       "      <td>...</td>\n",
       "    </tr>\n",
       "    <tr>\n",
       "      <th>36947</th>\n",
       "      <td>United States</td>\n",
       "      <td>If you are outside the United States, check th...</td>\n",
       "      <td>gutenbergtxts\\1961 Government and Rebellion by...</td>\n",
       "    </tr>\n",
       "    <tr>\n",
       "      <th>36948</th>\n",
       "      <td>United States</td>\n",
       "      <td>The Foundation makes no representations concer...</td>\n",
       "      <td>gutenbergtxts\\1961 Government and Rebellion by...</td>\n",
       "    </tr>\n",
       "    <tr>\n",
       "      <th>36949</th>\n",
       "      <td>United States</td>\n",
       "      <td>If an individual Project Gutenberg-tm electron...</td>\n",
       "      <td>gutenbergtxts\\1961 Government and Rebellion by...</td>\n",
       "    </tr>\n",
       "    <tr>\n",
       "      <th>36950</th>\n",
       "      <td>United States</td>\n",
       "      <td>The Foundation is committed to complying with ...</td>\n",
       "      <td>gutenbergtxts\\1961 Government and Rebellion by...</td>\n",
       "    </tr>\n",
       "    <tr>\n",
       "      <th>36951</th>\n",
       "      <td>United States</td>\n",
       "      <td>International donations are gratefully accepte...</td>\n",
       "      <td>gutenbergtxts\\1961 Government and Rebellion by...</td>\n",
       "    </tr>\n",
       "  </tbody>\n",
       "</table>\n",
       "<p>36952 rows × 3 columns</p>\n",
       "</div>"
      ],
      "text/plain": [
       "             country                                           sentence  \\\n",
       "0          Australia  This is markedly the case in the Australian pa...   \n",
       "1          Australia  Cook's names have rarely been altered, and New...   \n",
       "2        New Zealand  Cook's names have rarely been altered, and New...   \n",
       "3          Australia  In the case of the coast of East Australia, th...   \n",
       "4             France  The only fact known is that in May 1755, when ...   \n",
       "...              ...                                                ...   \n",
       "36947  United States  If you are outside the United States, check th...   \n",
       "36948  United States  The Foundation makes no representations concer...   \n",
       "36949  United States  If an individual Project Gutenberg-tm electron...   \n",
       "36950  United States  The Foundation is committed to complying with ...   \n",
       "36951  United States  International donations are gratefully accepte...   \n",
       "\n",
       "                                                    book  \n",
       "0      gutenbergtxts\\1770 Captain Cook's Journal Duri...  \n",
       "1      gutenbergtxts\\1770 Captain Cook's Journal Duri...  \n",
       "2      gutenbergtxts\\1770 Captain Cook's Journal Duri...  \n",
       "3      gutenbergtxts\\1770 Captain Cook's Journal Duri...  \n",
       "4      gutenbergtxts\\1770 Captain Cook's Journal Duri...  \n",
       "...                                                  ...  \n",
       "36947  gutenbergtxts\\1961 Government and Rebellion by...  \n",
       "36948  gutenbergtxts\\1961 Government and Rebellion by...  \n",
       "36949  gutenbergtxts\\1961 Government and Rebellion by...  \n",
       "36950  gutenbergtxts\\1961 Government and Rebellion by...  \n",
       "36951  gutenbergtxts\\1961 Government and Rebellion by...  \n",
       "\n",
       "[36952 rows x 3 columns]"
      ]
     },
     "execution_count": 34,
     "metadata": {},
     "output_type": "execute_result"
    }
   ],
   "source": [
    "df"
   ]
  },
  {
   "cell_type": "code",
   "execution_count": 35,
   "metadata": {
    "scrolled": false
   },
   "outputs": [
    {
     "data": {
      "text/plain": [
       "United States    3829\n",
       "Japan            3630\n",
       "China            3365\n",
       "India            2726\n",
       "France           2671\n",
       "                 ... \n",
       "Taiwan              1\n",
       "Barbados            1\n",
       "Eritrea             1\n",
       "Monaco              1\n",
       "Bhutan              1\n",
       "Name: country, Length: 125, dtype: int64"
      ]
     },
     "execution_count": 35,
     "metadata": {},
     "output_type": "execute_result"
    }
   ],
   "source": [
    "df['country'].value_counts()"
   ]
  },
  {
   "cell_type": "code",
   "execution_count": 37,
   "metadata": {},
   "outputs": [],
   "source": [
    "df.to_csv('gutenberg_sentences.csv')"
   ]
  },
  {
   "cell_type": "code",
   "execution_count": 40,
   "metadata": {},
   "outputs": [
    {
     "name": "stdout",
     "output_type": "stream",
     "text": [
      " Volume in drive C is NVMe Drive\n",
      " Volume Serial Number is 9ACC-A435\n",
      "\n",
      " Directory of C:\\Users\\vale\\Google Drive\\Blog\\201229 Opinions on countries\\ubfest\n",
      "\n",
      "14/01/2021  21:52    <DIR>          .\n",
      "14/01/2021  21:52    <DIR>          ..\n",
      "14/01/2021  21:33    <DIR>          .ipynb_checkpoints\n",
      "14/01/2021  21:52            11,827 210114 Read txt data.ipynb\n",
      "14/01/2021  21:52        13,543,759 gutenberg_sentences.csv\n",
      "14/01/2021  21:31    <DIR>          gutenbergtxts\n",
      "14/01/2021  21:31               146 README.md\n",
      "               3 File(s)     13,555,732 bytes\n",
      "               4 Dir(s)  66,115,731,456 bytes free\n"
     ]
    }
   ],
   "source": [
    "ls "
   ]
  },
  {
   "cell_type": "code",
   "execution_count": null,
   "metadata": {},
   "outputs": [],
   "source": []
  },
  {
   "cell_type": "code",
   "execution_count": null,
   "metadata": {},
   "outputs": [],
   "source": []
  },
  {
   "cell_type": "code",
   "execution_count": null,
   "metadata": {},
   "outputs": [],
   "source": []
  },
  {
   "cell_type": "code",
   "execution_count": null,
   "metadata": {},
   "outputs": [],
   "source": []
  },
  {
   "cell_type": "code",
   "execution_count": null,
   "metadata": {},
   "outputs": [],
   "source": []
  },
  {
   "cell_type": "code",
   "execution_count": null,
   "metadata": {},
   "outputs": [],
   "source": []
  },
  {
   "cell_type": "code",
   "execution_count": null,
   "metadata": {},
   "outputs": [],
   "source": []
  }
 ],
 "metadata": {
  "kernelspec": {
   "display_name": "Python 3",
   "language": "python",
   "name": "python3"
  },
  "language_info": {
   "codemirror_mode": {
    "name": "ipython",
    "version": 3
   },
   "file_extension": ".py",
   "mimetype": "text/x-python",
   "name": "python",
   "nbconvert_exporter": "python",
   "pygments_lexer": "ipython3",
   "version": "3.7.4"
  }
 },
 "nbformat": 4,
 "nbformat_minor": 2
}
