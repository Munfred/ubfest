{
 "cells": [
  {
   "cell_type": "code",
   "execution_count": 28,
   "metadata": {},
   "outputs": [],
   "source": [
    "import pandas as pd\n",
    "from scipy import sparse\n",
    "from tqdm import tqdm\n",
    "import anndata\n",
    "import numpy as np\n",
    "import matplotlib.pyplot as plt\n",
    "pd.set_option('display.max_colwidth', None)"
   ]
  },
  {
   "cell_type": "code",
   "execution_count": 3,
   "metadata": {},
   "outputs": [],
   "source": [
    "paragraphs = pd.read_csv('gutenberg_paragraphs.csv', index_col = 0)"
   ]
  },
  {
   "cell_type": "code",
   "execution_count": 6,
   "metadata": {},
   "outputs": [
    {
     "data": {
      "text/html": [
       "<div>\n",
       "<style scoped>\n",
       "    .dataframe tbody tr th:only-of-type {\n",
       "        vertical-align: middle;\n",
       "    }\n",
       "\n",
       "    .dataframe tbody tr th {\n",
       "        vertical-align: top;\n",
       "    }\n",
       "\n",
       "    .dataframe thead th {\n",
       "        text-align: right;\n",
       "    }\n",
       "</style>\n",
       "<table border=\"1\" class=\"dataframe\">\n",
       "  <thead>\n",
       "    <tr style=\"text-align: right;\">\n",
       "      <th></th>\n",
       "      <th>country</th>\n",
       "      <th>paragraph</th>\n",
       "      <th>book</th>\n",
       "    </tr>\n",
       "  </thead>\n",
       "  <tbody>\n",
       "    <tr>\n",
       "      <th>0</th>\n",
       "      <td>New Zealand</td>\n",
       "      <td>Cook's names have rarely been altered, and New Zealand and Australian places will probably for all time bear those which he bestowed.</td>\n",
       "      <td>1770 Captain Cook's Journal During the First Voyage Round the World, by James Cook</td>\n",
       "    </tr>\n",
       "    <tr>\n",
       "      <th>1</th>\n",
       "      <td>New Zealand</td>\n",
       "      <td>Abel Tasman, in 1642, coming across the Indian Ocean from the westward, had touched at Tasmania, or, as he called it, Van Diemen's Land, had skirted the western coast of the north island of New Zealand without landing, and had stretched away to the north-east, and found the Tonga Group.</td>\n",
       "      <td>1770 Captain Cook's Journal During the First Voyage Round the World, by James Cook</td>\n",
       "    </tr>\n",
       "  </tbody>\n",
       "</table>\n",
       "</div>"
      ],
      "text/plain": [
       "       country  \\\n",
       "0  New Zealand   \n",
       "1  New Zealand   \n",
       "\n",
       "                                                                                                                                                                                                                                                                                         paragraph  \\\n",
       "0                                                                                                                                                            Cook's names have rarely been altered, and New Zealand and Australian places will probably for all time bear those which he bestowed.   \n",
       "1  Abel Tasman, in 1642, coming across the Indian Ocean from the westward, had touched at Tasmania, or, as he called it, Van Diemen's Land, had skirted the western coast of the north island of New Zealand without landing, and had stretched away to the north-east, and found the Tonga Group.   \n",
       "\n",
       "                                                                                 book  \n",
       "0  1770 Captain Cook's Journal During the First Voyage Round the World, by James Cook  \n",
       "1  1770 Captain Cook's Journal During the First Voyage Round the World, by James Cook  "
      ]
     },
     "execution_count": 6,
     "metadata": {},
     "output_type": "execute_result"
    }
   ],
   "source": [
    "paragraphs.head(2)"
   ]
  },
  {
   "cell_type": "code",
   "execution_count": 7,
   "metadata": {},
   "outputs": [],
   "source": [
    "# this needs to be enfastened...create a list of unique words from a list of sentences\n",
    "unique_words = list(set.union(*paragraphs['paragraph'].str.replace('[^\\w\\s]','').str.split(' ').map(set).to_list()))"
   ]
  },
  {
   "cell_type": "code",
   "execution_count": 8,
   "metadata": {},
   "outputs": [
    {
     "data": {
      "text/plain": [
       "52236"
      ]
     },
     "execution_count": 8,
     "metadata": {},
     "output_type": "execute_result"
    }
   ],
   "source": [
    "len(unique_words)"
   ]
  },
  {
   "cell_type": "code",
   "execution_count": 9,
   "metadata": {},
   "outputs": [
    {
     "data": {
      "text/plain": [
       "['',\n",
       " 'motive1210',\n",
       " 'Anarchique_',\n",
       " 'Deutscher',\n",
       " 'themselves644',\n",
       " 'unworthy',\n",
       " 'throws',\n",
       " 'gazelles',\n",
       " 'scandinave',\n",
       " 'vastly']"
      ]
     },
     "execution_count": 9,
     "metadata": {},
     "output_type": "execute_result"
    }
   ],
   "source": [
    "unique_words[:10]"
   ]
  },
  {
   "cell_type": "code",
   "execution_count": 11,
   "metadata": {},
   "outputs": [
    {
     "data": {
      "text/plain": [
       "<10726x52236 sparse matrix of type '<class 'numpy.float64'>'\n",
       "\twith 0 stored elements in Dictionary Of Keys format>"
      ]
     },
     "execution_count": 11,
     "metadata": {},
     "output_type": "execute_result"
    }
   ],
   "source": [
    "X = sparse.dok_matrix((paragraphs.shape[0], len(unique_words)))\n",
    "X"
   ]
  },
  {
   "cell_type": "code",
   "execution_count": 13,
   "metadata": {},
   "outputs": [
    {
     "name": "stderr",
     "output_type": "stream",
     "text": [
      "100%|██████████| 10726/10726 [10:10<00:00, 17.57it/s]\n"
     ]
    }
   ],
   "source": [
    "# this needs to be enfastened...\n",
    "# create a matrix of number of occurrences of words in sentences\n",
    "# each row is a sentence, each column is a word\n",
    "# eg if potato and banana occur in sentence #4, then in column #4 add 1 to\n",
    "# the potato entry and 1 to the banana entry\n",
    "row = 0\n",
    "for paragraph in tqdm(paragraphs['paragraph'].values):\n",
    "    for i, word in enumerate(unique_words):\n",
    "        if word in paragraph:\n",
    "            X[row, i] = 1\n",
    "        \n",
    "    row += 1"
   ]
  },
  {
   "cell_type": "code",
   "execution_count": 14,
   "metadata": {},
   "outputs": [
    {
     "data": {
      "text/html": [
       "<div>\n",
       "<style scoped>\n",
       "    .dataframe tbody tr th:only-of-type {\n",
       "        vertical-align: middle;\n",
       "    }\n",
       "\n",
       "    .dataframe tbody tr th {\n",
       "        vertical-align: top;\n",
       "    }\n",
       "\n",
       "    .dataframe thead th {\n",
       "        text-align: right;\n",
       "    }\n",
       "</style>\n",
       "<table border=\"1\" class=\"dataframe\">\n",
       "  <thead>\n",
       "    <tr style=\"text-align: right;\">\n",
       "      <th></th>\n",
       "      <th>country</th>\n",
       "      <th>paragraph</th>\n",
       "      <th>book</th>\n",
       "    </tr>\n",
       "  </thead>\n",
       "  <tbody>\n",
       "    <tr>\n",
       "      <th>0</th>\n",
       "      <td>New Zealand</td>\n",
       "      <td>Cook's names have rarely been altered, and New Zealand and Australian places will probably for all time bear those which he bestowed.</td>\n",
       "      <td>1770 Captain Cook's Journal During the First Voyage Round the World, by James Cook</td>\n",
       "    </tr>\n",
       "    <tr>\n",
       "      <th>1</th>\n",
       "      <td>New Zealand</td>\n",
       "      <td>Abel Tasman, in 1642, coming across the Indian Ocean from the westward, had touched at Tasmania, or, as he called it, Van Diemen's Land, had skirted the western coast of the north island of New Zealand without landing, and had stretched away to the north-east, and found the Tonga Group.</td>\n",
       "      <td>1770 Captain Cook's Journal During the First Voyage Round the World, by James Cook</td>\n",
       "    </tr>\n",
       "    <tr>\n",
       "      <th>2</th>\n",
       "      <td>Tonga</td>\n",
       "      <td>Abel Tasman, in 1642, coming across the Indian Ocean from the westward, had touched at Tasmania, or, as he called it, Van Diemen's Land, had skirted the western coast of the north island of New Zealand without landing, and had stretched away to the north-east, and found the Tonga Group.</td>\n",
       "      <td>1770 Captain Cook's Journal During the First Voyage Round the World, by James Cook</td>\n",
       "    </tr>\n",
       "    <tr>\n",
       "      <th>3</th>\n",
       "      <td>China</td>\n",
       "      <td>Wallis followed nearly on Byron's track: went from the Ladrones, through the China Sea, to Batavia, and so home, arriving in May 1768.</td>\n",
       "      <td>1770 Captain Cook's Journal During the First Voyage Round the World, by James Cook</td>\n",
       "    </tr>\n",
       "    <tr>\n",
       "      <th>4</th>\n",
       "      <td>Tonga</td>\n",
       "      <td>Tasman had laid down the south point of Tasmania, the western coast of the North Island of New Zealand, and the Tonga Islands. Dampier and Carteret had shown that New Britain and New Ireland were separate islands, lying north-east of New Guinea. Quiros had found the northern island of the New Hebrides.</td>\n",
       "      <td>1770 Captain Cook's Journal During the First Voyage Round the World, by James Cook</td>\n",
       "    </tr>\n",
       "    <tr>\n",
       "      <th>...</th>\n",
       "      <td>...</td>\n",
       "      <td>...</td>\n",
       "      <td>...</td>\n",
       "    </tr>\n",
       "    <tr>\n",
       "      <th>10721</th>\n",
       "      <td>Austria</td>\n",
       "      <td>Vittorio Veneto, 75, 77;    vindication of fruits of, xvii, 107, 151, 154, 160, 164;    greatness of victory of, 110;    Austria crushed at, 135;    Fascista Government, the Government of, 333</td>\n",
       "      <td>1923 Mussolini as revealed in his political speeches, November 1914-August 1923, by Benito Mussolini</td>\n",
       "    </tr>\n",
       "    <tr>\n",
       "      <th>10722</th>\n",
       "      <td>Israel</td>\n",
       "      <td>I am not one of those who believe that the voice of the people is, without exception, the voice of God. It was not so at the Deluge, but quite the reverse. It was not so when Israel clamored for a king--not in mercy but in anger, God gave them their request. It was not so when Absalom stole the hearts of the people, and stirred up rebellion against his father. And yet, when a nation, independent of party, free from the excitements of momentary interest, without the influence of ambitious leaders, under the calm guidance of reason, history, and the spirit of the age,--rises spontaneously against oppression, against iniquity, and _demands_ just laws; rights for all; free thought, free speech, free labor, free worship; when compacts are not violated; when moderation is maintained; when the spirit of humanity is preserved,--_then_, I believe, \"the voice of the people _is_ the voice of God.\" I have no question that, in the great principle, Cromwell and his puritan hosts were right in their revolutionary action. I could never doubt that our fathers did a noble, glorious, and Christian deed in throwing off the yoke of Britain, and proclaiming a new government for themselves and their posterity. It was right to contend and bleed for equal representation, for freedom of conscience, and for an independent nationality in which these high ends could be secured.</td>\n",
       "      <td>1961 Government and Rebellion by E. E. Adams</td>\n",
       "    </tr>\n",
       "    <tr>\n",
       "      <th>10723</th>\n",
       "      <td>France</td>\n",
       "      <td>The revolutions of France have been of a similar character; they have sprung from oppression of the most severe and unnatural kind. This was the fact, at least, in 1797 and in 1830. In 1848, when it was my lot to be in the midst of it, the revolution arose from the selfish conduct of Louis Philippe, who enriched himself and his family out of the national treasury, and encouraged his sons in a course which was at war with national precedent, with the commercial interests and democratic individualism of the French; for with their imperial prestiges and tastes they are extreme in their personal democracy.</td>\n",
       "      <td>1961 Government and Rebellion by E. E. Adams</td>\n",
       "    </tr>\n",
       "    <tr>\n",
       "      <th>10724</th>\n",
       "      <td>France</td>\n",
       "      <td>Revolution is going on silently, from year to year, in England. The nobility yield by slow, almost imperceptible degrees, to the demands of the people. It is by this process that the Government avoids the shocks which startle Austria, France and Italy.</td>\n",
       "      <td>1961 Government and Rebellion by E. E. Adams</td>\n",
       "    </tr>\n",
       "    <tr>\n",
       "      <th>10725</th>\n",
       "      <td>Italy</td>\n",
       "      <td>I want this country to live! I want my children to grow up under its shield! I want to see constitutional liberty mount above the obstacles of ages, and rise higher and higher here, I want Italy to look toward us now with hope! I cannot bear to hear the cry of shame that will come over the Atlantic from the vineyards of France, from the glaciers of Switzerland, and from the steppes of Russia, if we permit the walls of our blood-bought inheritance to be broken down. For the sake of God, liberty, religion, all over the earth, I want our flag to be honored abroad.</td>\n",
       "      <td>1961 Government and Rebellion by E. E. Adams</td>\n",
       "    </tr>\n",
       "  </tbody>\n",
       "</table>\n",
       "<p>10726 rows × 3 columns</p>\n",
       "</div>"
      ],
      "text/plain": [
       "           country  \\\n",
       "0      New Zealand   \n",
       "1      New Zealand   \n",
       "2            Tonga   \n",
       "3            China   \n",
       "4            Tonga   \n",
       "...            ...   \n",
       "10721      Austria   \n",
       "10722       Israel   \n",
       "10723       France   \n",
       "10724       France   \n",
       "10725        Italy   \n",
       "\n",
       "                                                                                                                                                                                                                                                                                                                                                                                                                                                                                                                                                                                                                                                                                                                                                                                                                                                                                                                                                                                                                                                                                                                                                                                                                                                                                                                                                                                                                         paragraph  \\\n",
       "0                                                                                                                                                                                                                                                                                                                                                                                                                                                                                                                                                                                                                                                                                                                                                                                                                                                                                                                                                                                                                                                                                                                                                                                                                                                                                            Cook's names have rarely been altered, and New Zealand and Australian places will probably for all time bear those which he bestowed.   \n",
       "1                                                                                                                                                                                                                                                                                                                                                                                                                                                                                                                                                                                                                                                                                                                                                                                                                                                                                                                                                                                                                                                                                                                                  Abel Tasman, in 1642, coming across the Indian Ocean from the westward, had touched at Tasmania, or, as he called it, Van Diemen's Land, had skirted the western coast of the north island of New Zealand without landing, and had stretched away to the north-east, and found the Tonga Group.   \n",
       "2                                                                                                                                                                                                                                                                                                                                                                                                                                                                                                                                                                                                                                                                                                                                                                                                                                                                                                                                                                                                                                                                                                                                  Abel Tasman, in 1642, coming across the Indian Ocean from the westward, had touched at Tasmania, or, as he called it, Van Diemen's Land, had skirted the western coast of the north island of New Zealand without landing, and had stretched away to the north-east, and found the Tonga Group.   \n",
       "3                                                                                                                                                                                                                                                                                                                                                                                                                                                                                                                                                                                                                                                                                                                                                                                                                                                                                                                                                                                                                                                                                                                                                                                                                                                                                           Wallis followed nearly on Byron's track: went from the Ladrones, through the China Sea, to Batavia, and so home, arriving in May 1768.   \n",
       "4                                                                                                                                                                                                                                                                                                                                                                                                                                                                                                                                                                                                                                                                                                                                                                                                                                                                                                                                                                                                                                                                                                                  Tasman had laid down the south point of Tasmania, the western coast of the North Island of New Zealand, and the Tonga Islands. Dampier and Carteret had shown that New Britain and New Ireland were separate islands, lying north-east of New Guinea. Quiros had found the northern island of the New Hebrides.   \n",
       "...                                                                                                                                                                                                                                                                                                                                                                                                                                                                                                                                                                                                                                                                                                                                                                                                                                                                                                                                                                                                                                                                                                                                                                                                                                                                                                                                                                                                                            ...   \n",
       "10721                                                                                                                                                                                                                                                                                                                                                                                                                                                                                                                                                                                                                                                                                                                                                                                                                                                                                                                                                                                                                                                                                                                                                                                                                             Vittorio Veneto, 75, 77;    vindication of fruits of, xvii, 107, 151, 154, 160, 164;    greatness of victory of, 110;    Austria crushed at, 135;    Fascista Government, the Government of, 333   \n",
       "10722  I am not one of those who believe that the voice of the people is, without exception, the voice of God. It was not so at the Deluge, but quite the reverse. It was not so when Israel clamored for a king--not in mercy but in anger, God gave them their request. It was not so when Absalom stole the hearts of the people, and stirred up rebellion against his father. And yet, when a nation, independent of party, free from the excitements of momentary interest, without the influence of ambitious leaders, under the calm guidance of reason, history, and the spirit of the age,--rises spontaneously against oppression, against iniquity, and _demands_ just laws; rights for all; free thought, free speech, free labor, free worship; when compacts are not violated; when moderation is maintained; when the spirit of humanity is preserved,--_then_, I believe, \"the voice of the people _is_ the voice of God.\" I have no question that, in the great principle, Cromwell and his puritan hosts were right in their revolutionary action. I could never doubt that our fathers did a noble, glorious, and Christian deed in throwing off the yoke of Britain, and proclaiming a new government for themselves and their posterity. It was right to contend and bleed for equal representation, for freedom of conscience, and for an independent nationality in which these high ends could be secured.   \n",
       "10723                                                                                                                                                                                                                                                                                                                                                                                                                                                                                                                                                                                                                                                                                                                                                                                            The revolutions of France have been of a similar character; they have sprung from oppression of the most severe and unnatural kind. This was the fact, at least, in 1797 and in 1830. In 1848, when it was my lot to be in the midst of it, the revolution arose from the selfish conduct of Louis Philippe, who enriched himself and his family out of the national treasury, and encouraged his sons in a course which was at war with national precedent, with the commercial interests and democratic individualism of the French; for with their imperial prestiges and tastes they are extreme in their personal democracy.   \n",
       "10724                                                                                                                                                                                                                                                                                                                                                                                                                                                                                                                                                                                                                                                                                                                                                                                                                                                                                                                                                                                                                                                                                                                                                                 Revolution is going on silently, from year to year, in England. The nobility yield by slow, almost imperceptible degrees, to the demands of the people. It is by this process that the Government avoids the shocks which startle Austria, France and Italy.   \n",
       "10725                                                                                                                                                                                                                                                                                                                                                                                                                                                                                                                                                                                                                                                                                                                                                                                                                                      I want this country to live! I want my children to grow up under its shield! I want to see constitutional liberty mount above the obstacles of ages, and rise higher and higher here, I want Italy to look toward us now with hope! I cannot bear to hear the cry of shame that will come over the Atlantic from the vineyards of France, from the glaciers of Switzerland, and from the steppes of Russia, if we permit the walls of our blood-bought inheritance to be broken down. For the sake of God, liberty, religion, all over the earth, I want our flag to be honored abroad.   \n",
       "\n",
       "                                                                                                       book  \n",
       "0                        1770 Captain Cook's Journal During the First Voyage Round the World, by James Cook  \n",
       "1                        1770 Captain Cook's Journal During the First Voyage Round the World, by James Cook  \n",
       "2                        1770 Captain Cook's Journal During the First Voyage Round the World, by James Cook  \n",
       "3                        1770 Captain Cook's Journal During the First Voyage Round the World, by James Cook  \n",
       "4                        1770 Captain Cook's Journal During the First Voyage Round the World, by James Cook  \n",
       "...                                                                                                     ...  \n",
       "10721  1923 Mussolini as revealed in his political speeches, November 1914-August 1923, by Benito Mussolini  \n",
       "10722                                                          1961 Government and Rebellion by E. E. Adams  \n",
       "10723                                                          1961 Government and Rebellion by E. E. Adams  \n",
       "10724                                                          1961 Government and Rebellion by E. E. Adams  \n",
       "10725                                                          1961 Government and Rebellion by E. E. Adams  \n",
       "\n",
       "[10726 rows x 3 columns]"
      ]
     },
     "execution_count": 14,
     "metadata": {},
     "output_type": "execute_result"
    }
   ],
   "source": [
    "paragraphs"
   ]
  },
  {
   "cell_type": "code",
   "execution_count": 15,
   "metadata": {},
   "outputs": [],
   "source": [
    "X = X.tocsr()"
   ]
  },
  {
   "cell_type": "code",
   "execution_count": 17,
   "metadata": {},
   "outputs": [
    {
     "data": {
      "text/plain": [
       "<10726x52236 sparse matrix of type '<class 'numpy.float64'>'\n",
       "\twith 3342494 stored elements in Compressed Sparse Row format>"
      ]
     },
     "execution_count": 17,
     "metadata": {},
     "output_type": "execute_result"
    }
   ],
   "source": [
    "X"
   ]
  },
  {
   "cell_type": "code",
   "execution_count": 19,
   "metadata": {},
   "outputs": [
    {
     "name": "stderr",
     "output_type": "stream",
     "text": [
      "/Users/munfred/anaconda3/envs/py37/lib/python3.7/site-packages/anndata/_core/anndata.py:119: ImplicitModificationWarning: Transforming to str index.\n",
      "  warnings.warn(\"Transforming to str index.\", ImplicitModificationWarning)\n"
     ]
    },
    {
     "data": {
      "text/plain": [
       "AnnData object with n_obs × n_vars = 10726 × 52236\n",
       "    obs: 'country', 'paragraph', 'book'"
      ]
     },
     "execution_count": 19,
     "metadata": {},
     "output_type": "execute_result"
    }
   ],
   "source": [
    "adata = anndata.AnnData(X, obs = paragraphs, var = pd.DataFrame(index = unique_words))\n",
    "adata"
   ]
  },
  {
   "cell_type": "code",
   "execution_count": 20,
   "metadata": {},
   "outputs": [
    {
     "data": {
      "text/html": [
       "<div>\n",
       "<style scoped>\n",
       "    .dataframe tbody tr th:only-of-type {\n",
       "        vertical-align: middle;\n",
       "    }\n",
       "\n",
       "    .dataframe tbody tr th {\n",
       "        vertical-align: top;\n",
       "    }\n",
       "\n",
       "    .dataframe thead th {\n",
       "        text-align: right;\n",
       "    }\n",
       "</style>\n",
       "<table border=\"1\" class=\"dataframe\">\n",
       "  <thead>\n",
       "    <tr style=\"text-align: right;\">\n",
       "      <th></th>\n",
       "    </tr>\n",
       "  </thead>\n",
       "  <tbody>\n",
       "    <tr>\n",
       "      <th></th>\n",
       "    </tr>\n",
       "    <tr>\n",
       "      <th>motive1210</th>\n",
       "    </tr>\n",
       "    <tr>\n",
       "      <th>Anarchique_</th>\n",
       "    </tr>\n",
       "    <tr>\n",
       "      <th>Deutscher</th>\n",
       "    </tr>\n",
       "    <tr>\n",
       "      <th>themselves644</th>\n",
       "    </tr>\n",
       "    <tr>\n",
       "      <th>...</th>\n",
       "    </tr>\n",
       "    <tr>\n",
       "      <th>exclusiveness</th>\n",
       "    </tr>\n",
       "    <tr>\n",
       "      <th>Dasturs</th>\n",
       "    </tr>\n",
       "    <tr>\n",
       "      <th>visible</th>\n",
       "    </tr>\n",
       "    <tr>\n",
       "      <th>embedded</th>\n",
       "    </tr>\n",
       "    <tr>\n",
       "      <th>employee</th>\n",
       "    </tr>\n",
       "  </tbody>\n",
       "</table>\n",
       "<p>52236 rows × 0 columns</p>\n",
       "</div>"
      ],
      "text/plain": [
       "Empty DataFrame\n",
       "Columns: []\n",
       "Index: [, motive1210, Anarchique_, Deutscher, themselves644, unworthy, throws, gazelles, scandinave, vastly, With, incalculable, breadandbutter, anticipated, disfigured, sullen, 5012, revaluation, Taipings, disregardedCitizens, countriesthe, that, heathens, belies, 18871888, himselfto, dynamitethese, twentynine, sealed, promoters, Ditto, monopolyhenceforth, means, forfaits, Villa, Kriegsraad, exclusions, emptied, unquestioned, yellowbacked, animals, tablecloth, Capilano, testimony, Mere, fuel, Fushun, Crimean, endemic, Hohenstaufen, skiff, nondescript, round276, depositsPoebrotherium, overstating, Engels, essayists, Atherton, cock, impi, troubles, shadows, talk, Transylvanian, dumping, Ogilbys, Arians, Stupidity, zigzags, sharp, asunder, dictators, NanchangHangchow, _then_, Merano, males, observing, seated, Confounding, acclamation, Karageorgevitch, massacred, peasant, inadequately, supersolicitude, Shang, Mr, divesting, expressive, La, Marriage, colds, cites, religiouslyand, Gendarmerie, misbegotten, Municipalities, Etaples, nuns, Osten, ...]\n",
       "\n",
       "[52236 rows x 0 columns]"
      ]
     },
     "execution_count": 20,
     "metadata": {},
     "output_type": "execute_result"
    }
   ],
   "source": [
    "adata.var"
   ]
  },
  {
   "cell_type": "code",
   "execution_count": 21,
   "metadata": {},
   "outputs": [
    {
     "name": "stderr",
     "output_type": "stream",
     "text": [
      "... storing 'country' as categorical\n",
      "... storing 'paragraph' as categorical\n",
      "... storing 'book' as categorical\n"
     ]
    }
   ],
   "source": [
    "adata.write('gutenberg_paragraphs0117.h5ad')"
   ]
  },
  {
   "cell_type": "code",
   "execution_count": 22,
   "metadata": {},
   "outputs": [
    {
     "name": "stdout",
     "output_type": "stream",
     "text": [
      "total 1374856\n",
      "drwxr-xr-x  19 munfred  staff   646B Jan 17 20:02 \u001b[36m.\u001b[m\u001b[m/\n",
      "drwxr-xr-x  36 munfred  staff   1.2K Jan 15 15:35 \u001b[36m..\u001b[m\u001b[m/\n",
      "drwxr-xr-x  12 munfred  staff   408B Jan 15 11:33 \u001b[36m.git\u001b[m\u001b[m/\n",
      "-rw-r--r--   1 munfred  staff   444B Jan 15 11:35 .gitignore\n",
      "drwxr-xr-x   8 munfred  staff   272B Jan 17 19:47 \u001b[36m.ipynb_checkpoints\u001b[m\u001b[m/\n",
      "-rw-r--r--   1 munfred  staff    20K Jan 17 19:49 210114 Read txt data.ipynb\n",
      "-rw-r--r--   1 munfred  staff    20K Jan 15 11:37 210114 Test some statistics.ipynb\n",
      "-rw-r--r--   1 munfred  staff   4.5M Jan 17 14:20 210114 scVI.ipynb\n",
      "-rw-r--r--   1 munfred  staff    36K Jan 17 20:01 210117 Make word count matrix.ipynb\n",
      "-rw-r--r--   1 munfred  staff    38K Jan 17 19:47 210117 Split gutenberg to paragraphs.ipynb\n",
      "-rw-r--r--   1 munfred  staff   139B Jan 15 11:33 README.md\n",
      "-rw-r--r--   1 munfred  staff   1.8K Jan 17 14:33 countries\n",
      "-rw-r--r--   1 munfred  staff   1.8K Jan 17 14:33 countries.1\n",
      "-rw-r--r--   1 munfred  staff    12M Jan 17 19:47 gutenberg_paragraphs.csv\n",
      "-rw-r--r--   1 munfred  staff    36M Jan 17 20:02 gutenberg_paragraphs0117.h5ad\n",
      "-rw-r--r--   1 munfred  staff    13M Jan 15 11:33 gutenberg_sentences.csv\n",
      "-rw-r--r--   1 munfred  staff    45M Jan 15 11:33 gutenberg_sentences.h5ad\n",
      "-rw-r--r--   1 munfred  staff   562M Jan 17 19:49 gutenberg_sentences2.h5ad\n",
      "drwxr-xr-x  70 munfred  staff   2.3K Jan 17 14:30 \u001b[36mgutenbergtxts\u001b[m\u001b[m/\n"
     ]
    }
   ],
   "source": [
    "ls -lah"
   ]
  },
  {
   "cell_type": "code",
   "execution_count": null,
   "metadata": {},
   "outputs": [],
   "source": []
  },
  {
   "cell_type": "code",
   "execution_count": 25,
   "metadata": {},
   "outputs": [],
   "source": [
    "frac_zeros = np.array(1 - (adata.X > 0).mean(1))[:, 0]\n",
    "means = np.array((adata.X).mean(1))[:, 0]"
   ]
  },
  {
   "cell_type": "code",
   "execution_count": 29,
   "metadata": {},
   "outputs": [
    {
     "data": {
      "image/png": "[encoded data removed]",
      "text/plain": [
       "<Figure size 432x288 with 1 Axes>"
      ]
     },
     "metadata": {
      "image/png": {
       "height": 249,
       "width": 384
      },
      "needs_background": "light"
     },
     "output_type": "display_data"
    }
   ],
   "source": [
    "plt.scatter(means, frac_zeros)\n",
    "plt.xscale('log')"
   ]
  },
  {
   "cell_type": "code",
   "execution_count": null,
   "metadata": {},
   "outputs": [],
   "source": []
  },
  {
   "cell_type": "code",
   "execution_count": null,
   "metadata": {},
   "outputs": [],
   "source": []
  },
  {
   "cell_type": "code",
   "execution_count": null,
   "metadata": {},
   "outputs": [],
   "source": []
  }
 ],
 "metadata": {
  "kernelspec": {
   "display_name": "Python 3",
   "language": "python",
   "name": "python3"
  },
  "language_info": {
   "codemirror_mode": {
    "name": "ipython",
    "version": 3
   },
   "file_extension": ".py",
   "mimetype": "text/x-python",
   "name": "python",
   "nbconvert_exporter": "python",
   "pygments_lexer": "ipython3",
   "version": "3.7.9"
  }
 },
 "nbformat": 4,
 "nbformat_minor": 4
}
