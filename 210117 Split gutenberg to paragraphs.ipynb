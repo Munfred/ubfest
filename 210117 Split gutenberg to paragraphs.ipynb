{
 "cells": [
  {
   "cell_type": "code",
   "execution_count": 1,
   "metadata": {},
   "outputs": [
    {
     "name": "stdout",
     "output_type": "stream",
     "text": [
      "Populating the interactive namespace from numpy and matplotlib\n"
     ]
    }
   ],
   "source": [
    "from glob import glob\n",
    "\n",
    "import nltk\n",
    "import pandas as pd\n",
    "from tqdm import tqdm\n",
    "import gutenberg_cleaner\n",
    "\n",
    "%pylab inline"
   ]
  },
  {
   "cell_type": "code",
   "execution_count": 8,
   "metadata": {},
   "outputs": [
    {
     "name": "stdout",
     "output_type": "stream",
     "text": [
      "--2021-01-17 14:33:18--  https://gist.githubusercontent.com/kalinchernev/486393efcca01623b18d/raw/daa24c9fea66afb7d68f8d69f0c4b8eeb9406e83/countries\n",
      "Resolving gist.githubusercontent.com (gist.githubusercontent.com)... 151.101.0.133, 151.101.64.133, 151.101.128.133, ...\n",
      "Connecting to gist.githubusercontent.com (gist.githubusercontent.com)|151.101.0.133|:443... connected.\n",
      "HTTP request sent, awaiting response... 200 OK\n",
      "Length: 1842 (1.8K) [text/plain]\n",
      "Saving to: ‘countries.1’\n",
      "\n",
      "countries.1         100%[===================>]   1.80K  --.-KB/s    in 0s      \n",
      "\n",
      "2021-01-17 14:33:19 (18.5 MB/s) - ‘countries.1’ saved [1842/1842]\n",
      "\n"
     ]
    }
   ],
   "source": [
    "!wget https://gist.githubusercontent.com/kalinchernev/486393efcca01623b18d/raw/daa24c9fea66afb7d68f8d69f0c4b8eeb9406e83/countries\n",
    "countries = pd.read_csv('./countries', names = ['Country'])\n",
    "countries = countries['Country'].to_list()"
   ]
  },
  {
   "cell_type": "code",
   "execution_count": 124,
   "metadata": {},
   "outputs": [],
   "source": [
    "book_file = book_name"
   ]
  },
  {
   "cell_type": "code",
   "execution_count": 125,
   "metadata": {},
   "outputs": [
    {
     "data": {
      "text/plain": [
       "'gutenbergtxts/1961 Government and Rebellion by E. E. Adams .txt'"
      ]
     },
     "execution_count": 125,
     "metadata": {},
     "output_type": "execute_result"
    }
   ],
   "source": [
    "book_file"
   ]
  },
  {
   "cell_type": "code",
   "execution_count": 126,
   "metadata": {},
   "outputs": [
    {
     "data": {
      "text/plain": [
       "'1961 Government and Rebellion by E. E. Adams'"
      ]
     },
     "execution_count": 126,
     "metadata": {},
     "output_type": "execute_result"
    }
   ],
   "source": [
    "book_file.split('/')[1].strip('.txt').strip()"
   ]
  },
  {
   "cell_type": "code",
   "execution_count": 127,
   "metadata": {},
   "outputs": [
    {
     "data": {
      "text/plain": [
       "'But it is possible that, while we stir ourselves up to a fierce\\nbelligerency against rebellion, and rush into hot condemnation of those\\nwhom we once called \"_brethren,\" we_ are rebels against God! Some of you\\nwho are equipping for the war, and ready to take the field in defence of\\nyour country and her laws, are in heart at war with holiness and God! You\\nmay see in the fever of our whole population what men think of treason\\nagainst a good earthly government! See also in the commands of God, in the\\nlife and death of Jesus, in the declared interest and anxious watchfulness\\nof angels, in the whole glorified army that shall attend the Great King\\nwhen he comes to set up his final assize,--what the Principalities and\\nPowers in Heaven think of your treason against the holy government of\\nJehovah! Behold in the uplifted arm of Justice--hear in the voice of the\\nJudge, what shall be done to him who will not repent! Now the offers of\\npardon are made through the death and sacrifice of Jesus. Repent; forsake\\nyour sin; lay down your arms; retire from your rebellious attitude; and\\nfrom the throne of Mercy shall the fact be proclaimed, that _you_ are\\npardoned and restored!'"
      ]
     },
     "execution_count": 127,
     "metadata": {},
     "output_type": "execute_result"
    }
   ],
   "source": [
    "p"
   ]
  },
  {
   "cell_type": "code",
   "execution_count": 128,
   "metadata": {},
   "outputs": [
    {
     "data": {
      "text/plain": [
       "'But it is possible that, while we stir ourselves up to a fierce belligerency against rebellion, and rush into hot condemnation of those whom we once called \"_brethren,\" we_ are rebels against God! Some of you who are equipping for the war, and ready to take the field in defence of your country and her laws, are in heart at war with holiness and God! You may see in the fever of our whole population what men think of treason against a good earthly government! See also in the commands of God, in the life and death of Jesus, in the declared interest and anxious watchfulness of angels, in the whole glorified army that shall attend the Great King when he comes to set up his final assize,--what the Principalities and Powers in Heaven think of your treason against the holy government of Jehovah! Behold in the uplifted arm of Justice--hear in the voice of the Judge, what shall be done to him who will not repent! Now the offers of pardon are made through the death and sacrifice of Jesus. Repent; forsake your sin; lay down your arms; retire from your rebellious attitude; and from the throne of Mercy shall the fact be proclaimed, that _you_ are pardoned and restored!'"
      ]
     },
     "execution_count": 128,
     "metadata": {},
     "output_type": "execute_result"
    }
   ],
   "source": [
    "p.replace('\\n',' ')"
   ]
  },
  {
   "cell_type": "code",
   "execution_count": 137,
   "metadata": {},
   "outputs": [
    {
     "name": "stdout",
     "output_type": "stream",
     "text": [
      "1357 \t 1\n",
      "883 \t 2\n",
      "728 \t 3\n",
      "761 \t 4\n",
      "1424 \t 5\n",
      "408 \t 6\n",
      "1003 \t 7\n",
      "443 \t 8\n",
      "113 \t 9\n",
      "660 \t 10\n",
      "631 \t 11\n",
      "1017 \t 12\n",
      "618 \t 13\n",
      "566 \t 14\n",
      "330 \t 15\n",
      "2202 \t 16\n",
      "2291 \t 17\n",
      "658 \t 18\n",
      "2098 \t 19\n",
      "162 \t 20\n",
      "175 \t 21\n",
      "742 \t 22\n",
      "579 \t 23\n",
      "247 \t 24\n",
      "436 \t 25\n",
      "1095 \t 26\n",
      "2348 \t 27\n",
      "541 \t 28\n",
      "309 \t 29\n",
      "1283 \t 30\n",
      "1164 \t 31\n",
      "673 \t 32\n",
      "246 \t 33\n",
      "611 \t 34\n",
      "852 \t 35\n",
      "238 \t 36\n",
      "1117 \t 37\n",
      "1450 \t 38\n",
      "1039 \t 39\n",
      "217 \t 40\n",
      "426 \t 41\n",
      "550 \t 42\n",
      "910 \t 43\n",
      "628 \t 44\n",
      "148 \t 45\n",
      "120 \t 46\n",
      "336 \t 47\n",
      "1205 \t 48\n",
      "151 \t 49\n",
      "567 \t 50\n",
      "589 \t 51\n",
      "487 \t 52\n",
      "808 \t 53\n",
      "104 \t 54\n",
      "173 \t 55\n",
      "143 \t 56\n",
      "87 \t 57\n",
      "164 \t 58\n",
      "1036 \t 59\n",
      "580 \t 60\n",
      "253 \t 61\n",
      "326 \t 62\n",
      "539 \t 63\n",
      "525 \t 64\n",
      "501 \t 65\n",
      "930 \t 66\n",
      "37 \t 67\n"
     ]
    }
   ],
   "source": [
    "# book_name='./gutenbergtxts/1848 Peace with Mexico, by Albert Gallatin.txt'\n",
    "country_paragraphs=[]\n",
    "counter=0\n",
    "for book_file in glob('gutenbergtxts/*.txt'):\n",
    "    counter=counter+1\n",
    "    with open(book_file, encoding = 'utf8') as fh:\n",
    "        book = fh.read()\n",
    "        # this strips almost all the gutenberg project garbage from the books\n",
    "        # replaces them with the string `[deleted]` in new lines, which we can then\n",
    "        # remove by only keeping long paragraphs\n",
    "        # pip install gutenberg-cleaner\n",
    "        clean_book = gutenberg_cleaner.super_cleaner(book)\n",
    "        split = clean_book.split('\\n\\n')\n",
    "        min_charachters_in_paragraph=120\n",
    "        # keep only paragraphs longer than a single line, removes almost all garbage\n",
    "        paragraphs = [p for p in split if len(p) > min_charachters_in_paragraph]\n",
    "        print(len(paragraphs), '\\t', counter)\n",
    "        book_name=book_file.split('/')[1].strip('.txt').strip()\n",
    "\n",
    "        for p in paragraphs:\n",
    "            p = p.replace('\\n',' ')\n",
    "            for c in countries:\n",
    "                if ' ' + c + ' ' in p:\n",
    "                    country_paragraphs.append({\n",
    "                        'country': c,\n",
    "                        'paragraph': p,\n",
    "                        'book': book_name\n",
    "                    })\n",
    "\n",
    "    # for item in paragraphs:\n",
    "    #     print(len(item))\n",
    "    #     print(item)\n",
    "    #     print('🔵🔵🔵🔵🔵🔵')"
   ]
  },
  {
   "cell_type": "code",
   "execution_count": 138,
   "metadata": {},
   "outputs": [
    {
     "data": {
      "text/html": [
       "<div>\n",
       "<style scoped>\n",
       "    .dataframe tbody tr th:only-of-type {\n",
       "        vertical-align: middle;\n",
       "    }\n",
       "\n",
       "    .dataframe tbody tr th {\n",
       "        vertical-align: top;\n",
       "    }\n",
       "\n",
       "    .dataframe thead th {\n",
       "        text-align: right;\n",
       "    }\n",
       "</style>\n",
       "<table border=\"1\" class=\"dataframe\">\n",
       "  <thead>\n",
       "    <tr style=\"text-align: right;\">\n",
       "      <th></th>\n",
       "      <th>country</th>\n",
       "      <th>paragraph</th>\n",
       "      <th>book</th>\n",
       "    </tr>\n",
       "  </thead>\n",
       "  <tbody>\n",
       "    <tr>\n",
       "      <th>0</th>\n",
       "      <td>New Zealand</td>\n",
       "      <td>Cook's names have rarely been altered, and New Zealand and Australian places will probably for all time bear those which he bestowed.</td>\n",
       "      <td>1770 Captain Cook's Journal During the First Voyage Round the World, by James Cook</td>\n",
       "    </tr>\n",
       "    <tr>\n",
       "      <th>1</th>\n",
       "      <td>New Zealand</td>\n",
       "      <td>Abel Tasman, in 1642, coming across the Indian Ocean from the westward, had touched at Tasmania, or, as he called it, Van Diemen's Land, had skirted the western coast of the north island of New Zealand without landing, and had stretched away to the north-east, and found the Tonga Group.</td>\n",
       "      <td>1770 Captain Cook's Journal During the First Voyage Round the World, by James Cook</td>\n",
       "    </tr>\n",
       "    <tr>\n",
       "      <th>2</th>\n",
       "      <td>Tonga</td>\n",
       "      <td>Abel Tasman, in 1642, coming across the Indian Ocean from the westward, had touched at Tasmania, or, as he called it, Van Diemen's Land, had skirted the western coast of the north island of New Zealand without landing, and had stretched away to the north-east, and found the Tonga Group.</td>\n",
       "      <td>1770 Captain Cook's Journal During the First Voyage Round the World, by James Cook</td>\n",
       "    </tr>\n",
       "    <tr>\n",
       "      <th>3</th>\n",
       "      <td>China</td>\n",
       "      <td>Wallis followed nearly on Byron's track: went from the Ladrones, through the China Sea, to Batavia, and so home, arriving in May 1768.</td>\n",
       "      <td>1770 Captain Cook's Journal During the First Voyage Round the World, by James Cook</td>\n",
       "    </tr>\n",
       "    <tr>\n",
       "      <th>4</th>\n",
       "      <td>Tonga</td>\n",
       "      <td>Tasman had laid down the south point of Tasmania, the western coast of the North Island of New Zealand, and the Tonga Islands. Dampier and Carteret had shown that New Britain and New Ireland were separate islands, lying north-east of New Guinea. Quiros had found the northern island of the New Hebrides.</td>\n",
       "      <td>1770 Captain Cook's Journal During the First Voyage Round the World, by James Cook</td>\n",
       "    </tr>\n",
       "    <tr>\n",
       "      <th>...</th>\n",
       "      <td>...</td>\n",
       "      <td>...</td>\n",
       "      <td>...</td>\n",
       "    </tr>\n",
       "    <tr>\n",
       "      <th>10721</th>\n",
       "      <td>Austria</td>\n",
       "      <td>Vittorio Veneto, 75, 77;    vindication of fruits of, xvii, 107, 151, 154, 160, 164;    greatness of victory of, 110;    Austria crushed at, 135;    Fascista Government, the Government of, 333</td>\n",
       "      <td>1923 Mussolini as revealed in his political speeches, November 1914-August 1923, by Benito Mussolini</td>\n",
       "    </tr>\n",
       "    <tr>\n",
       "      <th>10722</th>\n",
       "      <td>Israel</td>\n",
       "      <td>I am not one of those who believe that the voice of the people is, without exception, the voice of God. It was not so at the Deluge, but quite the reverse. It was not so when Israel clamored for a king--not in mercy but in anger, God gave them their request. It was not so when Absalom stole the hearts of the people, and stirred up rebellion against his father. And yet, when a nation, independent of party, free from the excitements of momentary interest, without the influence of ambitious leaders, under the calm guidance of reason, history, and the spirit of the age,--rises spontaneously against oppression, against iniquity, and _demands_ just laws; rights for all; free thought, free speech, free labor, free worship; when compacts are not violated; when moderation is maintained; when the spirit of humanity is preserved,--_then_, I believe, \"the voice of the people _is_ the voice of God.\" I have no question that, in the great principle, Cromwell and his puritan hosts were right in their revolutionary action. I could never doubt that our fathers did a noble, glorious, and Christian deed in throwing off the yoke of Britain, and proclaiming a new government for themselves and their posterity. It was right to contend and bleed for equal representation, for freedom of conscience, and for an independent nationality in which these high ends could be secured.</td>\n",
       "      <td>1961 Government and Rebellion by E. E. Adams</td>\n",
       "    </tr>\n",
       "    <tr>\n",
       "      <th>10723</th>\n",
       "      <td>France</td>\n",
       "      <td>The revolutions of France have been of a similar character; they have sprung from oppression of the most severe and unnatural kind. This was the fact, at least, in 1797 and in 1830. In 1848, when it was my lot to be in the midst of it, the revolution arose from the selfish conduct of Louis Philippe, who enriched himself and his family out of the national treasury, and encouraged his sons in a course which was at war with national precedent, with the commercial interests and democratic individualism of the French; for with their imperial prestiges and tastes they are extreme in their personal democracy.</td>\n",
       "      <td>1961 Government and Rebellion by E. E. Adams</td>\n",
       "    </tr>\n",
       "    <tr>\n",
       "      <th>10724</th>\n",
       "      <td>France</td>\n",
       "      <td>Revolution is going on silently, from year to year, in England. The nobility yield by slow, almost imperceptible degrees, to the demands of the people. It is by this process that the Government avoids the shocks which startle Austria, France and Italy.</td>\n",
       "      <td>1961 Government and Rebellion by E. E. Adams</td>\n",
       "    </tr>\n",
       "    <tr>\n",
       "      <th>10725</th>\n",
       "      <td>Italy</td>\n",
       "      <td>I want this country to live! I want my children to grow up under its shield! I want to see constitutional liberty mount above the obstacles of ages, and rise higher and higher here, I want Italy to look toward us now with hope! I cannot bear to hear the cry of shame that will come over the Atlantic from the vineyards of France, from the glaciers of Switzerland, and from the steppes of Russia, if we permit the walls of our blood-bought inheritance to be broken down. For the sake of God, liberty, religion, all over the earth, I want our flag to be honored abroad.</td>\n",
       "      <td>1961 Government and Rebellion by E. E. Adams</td>\n",
       "    </tr>\n",
       "  </tbody>\n",
       "</table>\n",
       "<p>10726 rows × 3 columns</p>\n",
       "</div>"
      ],
      "text/plain": [
       "           country  \\\n",
       "0      New Zealand   \n",
       "1      New Zealand   \n",
       "2            Tonga   \n",
       "3            China   \n",
       "4            Tonga   \n",
       "...            ...   \n",
       "10721      Austria   \n",
       "10722       Israel   \n",
       "10723       France   \n",
       "10724       France   \n",
       "10725        Italy   \n",
       "\n",
       "                                                                                                                                                                                                                                                                                                                                                                                                                                                                                                                                                                                                                                                                                                                                                                                                                                                                                                                                                                                                                                                                                                                                                                                                                                                                                                                                                                                                                         paragraph  \\\n",
       "0                                                                                                                                                                                                                                                                                                                                                                                                                                                                                                                                                                                                                                                                                                                                                                                                                                                                                                                                                                                                                                                                                                                                                                                                                                                                                            Cook's names have rarely been altered, and New Zealand and Australian places will probably for all time bear those which he bestowed.   \n",
       "1                                                                                                                                                                                                                                                                                                                                                                                                                                                                                                                                                                                                                                                                                                                                                                                                                                                                                                                                                                                                                                                                                                                                  Abel Tasman, in 1642, coming across the Indian Ocean from the westward, had touched at Tasmania, or, as he called it, Van Diemen's Land, had skirted the western coast of the north island of New Zealand without landing, and had stretched away to the north-east, and found the Tonga Group.   \n",
       "2                                                                                                                                                                                                                                                                                                                                                                                                                                                                                                                                                                                                                                                                                                                                                                                                                                                                                                                                                                                                                                                                                                                                  Abel Tasman, in 1642, coming across the Indian Ocean from the westward, had touched at Tasmania, or, as he called it, Van Diemen's Land, had skirted the western coast of the north island of New Zealand without landing, and had stretched away to the north-east, and found the Tonga Group.   \n",
       "3                                                                                                                                                                                                                                                                                                                                                                                                                                                                                                                                                                                                                                                                                                                                                                                                                                                                                                                                                                                                                                                                                                                                                                                                                                                                                           Wallis followed nearly on Byron's track: went from the Ladrones, through the China Sea, to Batavia, and so home, arriving in May 1768.   \n",
       "4                                                                                                                                                                                                                                                                                                                                                                                                                                                                                                                                                                                                                                                                                                                                                                                                                                                                                                                                                                                                                                                                                                                  Tasman had laid down the south point of Tasmania, the western coast of the North Island of New Zealand, and the Tonga Islands. Dampier and Carteret had shown that New Britain and New Ireland were separate islands, lying north-east of New Guinea. Quiros had found the northern island of the New Hebrides.   \n",
       "...                                                                                                                                                                                                                                                                                                                                                                                                                                                                                                                                                                                                                                                                                                                                                                                                                                                                                                                                                                                                                                                                                                                                                                                                                                                                                                                                                                                                                            ...   \n",
       "10721                                                                                                                                                                                                                                                                                                                                                                                                                                                                                                                                                                                                                                                                                                                                                                                                                                                                                                                                                                                                                                                                                                                                                                                                                             Vittorio Veneto, 75, 77;    vindication of fruits of, xvii, 107, 151, 154, 160, 164;    greatness of victory of, 110;    Austria crushed at, 135;    Fascista Government, the Government of, 333   \n",
       "10722  I am not one of those who believe that the voice of the people is, without exception, the voice of God. It was not so at the Deluge, but quite the reverse. It was not so when Israel clamored for a king--not in mercy but in anger, God gave them their request. It was not so when Absalom stole the hearts of the people, and stirred up rebellion against his father. And yet, when a nation, independent of party, free from the excitements of momentary interest, without the influence of ambitious leaders, under the calm guidance of reason, history, and the spirit of the age,--rises spontaneously against oppression, against iniquity, and _demands_ just laws; rights for all; free thought, free speech, free labor, free worship; when compacts are not violated; when moderation is maintained; when the spirit of humanity is preserved,--_then_, I believe, \"the voice of the people _is_ the voice of God.\" I have no question that, in the great principle, Cromwell and his puritan hosts were right in their revolutionary action. I could never doubt that our fathers did a noble, glorious, and Christian deed in throwing off the yoke of Britain, and proclaiming a new government for themselves and their posterity. It was right to contend and bleed for equal representation, for freedom of conscience, and for an independent nationality in which these high ends could be secured.   \n",
       "10723                                                                                                                                                                                                                                                                                                                                                                                                                                                                                                                                                                                                                                                                                                                                                                                            The revolutions of France have been of a similar character; they have sprung from oppression of the most severe and unnatural kind. This was the fact, at least, in 1797 and in 1830. In 1848, when it was my lot to be in the midst of it, the revolution arose from the selfish conduct of Louis Philippe, who enriched himself and his family out of the national treasury, and encouraged his sons in a course which was at war with national precedent, with the commercial interests and democratic individualism of the French; for with their imperial prestiges and tastes they are extreme in their personal democracy.   \n",
       "10724                                                                                                                                                                                                                                                                                                                                                                                                                                                                                                                                                                                                                                                                                                                                                                                                                                                                                                                                                                                                                                                                                                                                                                 Revolution is going on silently, from year to year, in England. The nobility yield by slow, almost imperceptible degrees, to the demands of the people. It is by this process that the Government avoids the shocks which startle Austria, France and Italy.   \n",
       "10725                                                                                                                                                                                                                                                                                                                                                                                                                                                                                                                                                                                                                                                                                                                                                                                                                                      I want this country to live! I want my children to grow up under its shield! I want to see constitutional liberty mount above the obstacles of ages, and rise higher and higher here, I want Italy to look toward us now with hope! I cannot bear to hear the cry of shame that will come over the Atlantic from the vineyards of France, from the glaciers of Switzerland, and from the steppes of Russia, if we permit the walls of our blood-bought inheritance to be broken down. For the sake of God, liberty, religion, all over the earth, I want our flag to be honored abroad.   \n",
       "\n",
       "                                                                                                       book  \n",
       "0                        1770 Captain Cook's Journal During the First Voyage Round the World, by James Cook  \n",
       "1                        1770 Captain Cook's Journal During the First Voyage Round the World, by James Cook  \n",
       "2                        1770 Captain Cook's Journal During the First Voyage Round the World, by James Cook  \n",
       "3                        1770 Captain Cook's Journal During the First Voyage Round the World, by James Cook  \n",
       "4                        1770 Captain Cook's Journal During the First Voyage Round the World, by James Cook  \n",
       "...                                                                                                     ...  \n",
       "10721  1923 Mussolini as revealed in his political speeches, November 1914-August 1923, by Benito Mussolini  \n",
       "10722                                                          1961 Government and Rebellion by E. E. Adams  \n",
       "10723                                                          1961 Government and Rebellion by E. E. Adams  \n",
       "10724                                                          1961 Government and Rebellion by E. E. Adams  \n",
       "10725                                                          1961 Government and Rebellion by E. E. Adams  \n",
       "\n",
       "[10726 rows x 3 columns]"
      ]
     },
     "execution_count": 138,
     "metadata": {},
     "output_type": "execute_result"
    }
   ],
   "source": [
    "df = pd.DataFrame(country_paragraphs)\n",
    "df"
   ]
  },
  {
   "cell_type": "code",
   "execution_count": 139,
   "metadata": {},
   "outputs": [
    {
     "data": {
      "text/plain": [
       "United States       1508\n",
       "China               1319\n",
       "France               872\n",
       "Germany              720\n",
       "Japan                663\n",
       "                    ... \n",
       "Romania                1\n",
       "Bhutan                 1\n",
       "Marshall Islands       1\n",
       "Venezuela              1\n",
       "Barbados               1\n",
       "Name: country, Length: 104, dtype: int64"
      ]
     },
     "execution_count": 139,
     "metadata": {},
     "output_type": "execute_result"
    }
   ],
   "source": [
    "df['country'].value_counts()"
   ]
  },
  {
   "cell_type": "code",
   "execution_count": 140,
   "metadata": {},
   "outputs": [
    {
     "name": "stdout",
     "output_type": "stream",
     "text": [
      "7    Green had accompanied Mr. Maskelyne, afterwards Astronomer Royal, to Barbados in 1763 in H.M.S. Princess Louisa, in order to test Harrison's timekeeper, and also a complicated chair, from which it was supposed observations of Jupiter's satellites could be observed on board ship; and as this trial afforded the final triumph of the new method, one would have thought that on a voyage of circumnavigation he would have made every effort to get one of these watches.\n",
      "Name: paragraph, dtype: object\n"
     ]
    }
   ],
   "source": [
    "print(df[df.country=='Barbados'].paragraph)"
   ]
  },
  {
   "cell_type": "code",
   "execution_count": 105,
   "metadata": {},
   "outputs": [],
   "source": [
    "pd.set_option('display.max_colwidth', None)"
   ]
  },
  {
   "cell_type": "code",
   "execution_count": 141,
   "metadata": {},
   "outputs": [
    {
     "data": {
      "text/plain": [
       "7    Green had accompanied Mr. Maskelyne, afterwards Astronomer Royal, to Barbados in 1763 in H.M.S. Princess Louisa, in order to test Harrison's timekeeper, and also a complicated chair, from which it was supposed observations of Jupiter's satellites could be observed on board ship; and as this trial afforded the final triumph of the new method, one would have thought that on a voyage of circumnavigation he would have made every effort to get one of these watches.\n",
       "Name: paragraph, dtype: object"
      ]
     },
     "execution_count": 141,
     "metadata": {},
     "output_type": "execute_result"
    }
   ],
   "source": [
    "df[df.country=='Barbados'].paragraph"
   ]
  },
  {
   "cell_type": "code",
   "execution_count": 142,
   "metadata": {},
   "outputs": [],
   "source": [
    "df.to_csv('gutenberg_paragraphs.csv')"
   ]
  },
  {
   "cell_type": "code",
   "execution_count": null,
   "metadata": {},
   "outputs": [],
   "source": []
  },
  {
   "cell_type": "code",
   "execution_count": null,
   "metadata": {},
   "outputs": [],
   "source": []
  },
  {
   "cell_type": "code",
   "execution_count": null,
   "metadata": {},
   "outputs": [],
   "source": []
  },
  {
   "cell_type": "code",
   "execution_count": null,
   "metadata": {},
   "outputs": [],
   "source": []
  },
  {
   "cell_type": "code",
   "execution_count": null,
   "metadata": {},
   "outputs": [],
   "source": []
  },
  {
   "cell_type": "code",
   "execution_count": null,
   "metadata": {},
   "outputs": [],
   "source": []
  },
  {
   "cell_type": "code",
   "execution_count": null,
   "metadata": {},
   "outputs": [],
   "source": []
  },
  {
   "cell_type": "code",
   "execution_count": null,
   "metadata": {},
   "outputs": [],
   "source": []
  }
 ],
 "metadata": {
  "kernelspec": {
   "display_name": "Python 3",
   "language": "python",
   "name": "python3"
  },
  "language_info": {
   "codemirror_mode": {
    "name": "ipython",
    "version": 3
   },
   "file_extension": ".py",
   "mimetype": "text/x-python",
   "name": "python",
   "nbconvert_exporter": "python",
   "pygments_lexer": "ipython3",
   "version": "3.7.9"
  }
 },
 "nbformat": 4,
 "nbformat_minor": 4
}
