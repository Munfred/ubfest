{
 "cells": [
  {
   "cell_type": "code",
   "execution_count": 1,
   "metadata": {},
   "outputs": [
    {
     "name": "stdout",
     "output_type": "stream",
     "text": [
      "Populating the interactive namespace from numpy and matplotlib\n"
     ]
    }
   ],
   "source": [
    "import pandas as pd\n",
    "\n",
    "%pylab inline"
   ]
  },
  {
   "cell_type": "code",
   "execution_count": 4,
   "metadata": {},
   "outputs": [],
   "source": [
    "sentences = pd.read_csv('gutenberg_sentences.csv', index_col = 0)"
   ]
  },
  {
   "cell_type": "code",
   "execution_count": 5,
   "metadata": {},
   "outputs": [
    {
     "data": {
      "text/html": [
       "<div>\n",
       "<style scoped>\n",
       "    .dataframe tbody tr th:only-of-type {\n",
       "        vertical-align: middle;\n",
       "    }\n",
       "\n",
       "    .dataframe tbody tr th {\n",
       "        vertical-align: top;\n",
       "    }\n",
       "\n",
       "    .dataframe thead th {\n",
       "        text-align: right;\n",
       "    }\n",
       "</style>\n",
       "<table border=\"1\" class=\"dataframe\">\n",
       "  <thead>\n",
       "    <tr style=\"text-align: right;\">\n",
       "      <th></th>\n",
       "      <th>country</th>\n",
       "      <th>sentence</th>\n",
       "      <th>book</th>\n",
       "    </tr>\n",
       "  </thead>\n",
       "  <tbody>\n",
       "    <tr>\n",
       "      <th>0</th>\n",
       "      <td>Australia</td>\n",
       "      <td>This is markedly the case in the Australian pa...</td>\n",
       "      <td>gutenbergtxts\\1770 Captain Cook's Journal Duri...</td>\n",
       "    </tr>\n",
       "    <tr>\n",
       "      <th>1</th>\n",
       "      <td>Australia</td>\n",
       "      <td>Cook's names have rarely been altered, and New...</td>\n",
       "      <td>gutenbergtxts\\1770 Captain Cook's Journal Duri...</td>\n",
       "    </tr>\n",
       "    <tr>\n",
       "      <th>2</th>\n",
       "      <td>New Zealand</td>\n",
       "      <td>Cook's names have rarely been altered, and New...</td>\n",
       "      <td>gutenbergtxts\\1770 Captain Cook's Journal Duri...</td>\n",
       "    </tr>\n",
       "    <tr>\n",
       "      <th>3</th>\n",
       "      <td>Australia</td>\n",
       "      <td>In the case of the coast of East Australia, th...</td>\n",
       "      <td>gutenbergtxts\\1770 Captain Cook's Journal Duri...</td>\n",
       "    </tr>\n",
       "    <tr>\n",
       "      <th>4</th>\n",
       "      <td>France</td>\n",
       "      <td>The only fact known is that in May 1755, when ...</td>\n",
       "      <td>gutenbergtxts\\1770 Captain Cook's Journal Duri...</td>\n",
       "    </tr>\n",
       "    <tr>\n",
       "      <th>...</th>\n",
       "      <td>...</td>\n",
       "      <td>...</td>\n",
       "      <td>...</td>\n",
       "    </tr>\n",
       "    <tr>\n",
       "      <th>36947</th>\n",
       "      <td>United States</td>\n",
       "      <td>If you are outside the United States, check th...</td>\n",
       "      <td>gutenbergtxts\\1961 Government and Rebellion by...</td>\n",
       "    </tr>\n",
       "    <tr>\n",
       "      <th>36948</th>\n",
       "      <td>United States</td>\n",
       "      <td>The Foundation makes no representations concer...</td>\n",
       "      <td>gutenbergtxts\\1961 Government and Rebellion by...</td>\n",
       "    </tr>\n",
       "    <tr>\n",
       "      <th>36949</th>\n",
       "      <td>United States</td>\n",
       "      <td>If an individual Project Gutenberg-tm electron...</td>\n",
       "      <td>gutenbergtxts\\1961 Government and Rebellion by...</td>\n",
       "    </tr>\n",
       "    <tr>\n",
       "      <th>36950</th>\n",
       "      <td>United States</td>\n",
       "      <td>The Foundation is committed to complying with ...</td>\n",
       "      <td>gutenbergtxts\\1961 Government and Rebellion by...</td>\n",
       "    </tr>\n",
       "    <tr>\n",
       "      <th>36951</th>\n",
       "      <td>United States</td>\n",
       "      <td>International donations are gratefully accepte...</td>\n",
       "      <td>gutenbergtxts\\1961 Government and Rebellion by...</td>\n",
       "    </tr>\n",
       "  </tbody>\n",
       "</table>\n",
       "<p>36952 rows × 3 columns</p>\n",
       "</div>"
      ],
      "text/plain": [
       "             country                                           sentence  \\\n",
       "0          Australia  This is markedly the case in the Australian pa...   \n",
       "1          Australia  Cook's names have rarely been altered, and New...   \n",
       "2        New Zealand  Cook's names have rarely been altered, and New...   \n",
       "3          Australia  In the case of the coast of East Australia, th...   \n",
       "4             France  The only fact known is that in May 1755, when ...   \n",
       "...              ...                                                ...   \n",
       "36947  United States  If you are outside the United States, check th...   \n",
       "36948  United States  The Foundation makes no representations concer...   \n",
       "36949  United States  If an individual Project Gutenberg-tm electron...   \n",
       "36950  United States  The Foundation is committed to complying with ...   \n",
       "36951  United States  International donations are gratefully accepte...   \n",
       "\n",
       "                                                    book  \n",
       "0      gutenbergtxts\\1770 Captain Cook's Journal Duri...  \n",
       "1      gutenbergtxts\\1770 Captain Cook's Journal Duri...  \n",
       "2      gutenbergtxts\\1770 Captain Cook's Journal Duri...  \n",
       "3      gutenbergtxts\\1770 Captain Cook's Journal Duri...  \n",
       "4      gutenbergtxts\\1770 Captain Cook's Journal Duri...  \n",
       "...                                                  ...  \n",
       "36947  gutenbergtxts\\1961 Government and Rebellion by...  \n",
       "36948  gutenbergtxts\\1961 Government and Rebellion by...  \n",
       "36949  gutenbergtxts\\1961 Government and Rebellion by...  \n",
       "36950  gutenbergtxts\\1961 Government and Rebellion by...  \n",
       "36951  gutenbergtxts\\1961 Government and Rebellion by...  \n",
       "\n",
       "[36952 rows x 3 columns]"
      ]
     },
     "execution_count": 5,
     "metadata": {},
     "output_type": "execute_result"
    }
   ],
   "source": [
    "sentences"
   ]
  },
  {
   "cell_type": "code",
   "execution_count": null,
   "metadata": {},
   "outputs": [],
   "source": []
  },
  {
   "cell_type": "code",
   "execution_count": 27,
   "metadata": {},
   "outputs": [],
   "source": [
    "unique_words = list(set.union(*sentences['sentence'].str.replace('[^\\w\\s]','').str.split(' ').map(set).to_list()))"
   ]
  },
  {
   "cell_type": "code",
   "execution_count": 30,
   "metadata": {},
   "outputs": [
    {
     "data": {
      "text/plain": [
       "51251"
      ]
     },
     "execution_count": 30,
     "metadata": {},
     "output_type": "execute_result"
    }
   ],
   "source": [
    "len(unique_words)"
   ]
  },
  {
   "cell_type": "code",
   "execution_count": null,
   "metadata": {},
   "outputs": [],
   "source": []
  },
  {
   "cell_type": "code",
   "execution_count": 33,
   "metadata": {},
   "outputs": [],
   "source": [
    "from scipy import sparse"
   ]
  },
  {
   "cell_type": "code",
   "execution_count": 44,
   "metadata": {},
   "outputs": [],
   "source": [
    "from tqdm import tqdm"
   ]
  },
  {
   "cell_type": "code",
   "execution_count": null,
   "metadata": {},
   "outputs": [],
   "source": []
  },
  {
   "cell_type": "code",
   "execution_count": 38,
   "metadata": {},
   "outputs": [],
   "source": [
    "X = sparse.dok_matrix((sentences.shape[0], len(unique_words)))"
   ]
  },
  {
   "cell_type": "code",
   "execution_count": 45,
   "metadata": {},
   "outputs": [
    {
     "name": "stderr",
     "output_type": "stream",
     "text": [
      "100%|██████████████████████████████████████████████████████████████████████████████████████████████████████████████████████████████████████████████| 36952/36952 [18:02<00:00, 34.13it/s]\n"
     ]
    }
   ],
   "source": [
    "row = 0\n",
    "for sentence in tqdm(sentences['sentence'].values):\n",
    "    for i, word in enumerate(unique_words):\n",
    "        if word in sentence:\n",
    "            X[row, i] = 1\n",
    "        \n",
    "    row += 1"
   ]
  },
  {
   "cell_type": "code",
   "execution_count": 46,
   "metadata": {},
   "outputs": [
    {
     "data": {
      "text/plain": [
       "'International donations are gratefully accepted, but we cannot make any statements concerning tax treatment of donations received from outside the United States.'"
      ]
     },
     "execution_count": 46,
     "metadata": {},
     "output_type": "execute_result"
    }
   ],
   "source": [
    "sentence"
   ]
  },
  {
   "cell_type": "code",
   "execution_count": 50,
   "metadata": {},
   "outputs": [],
   "source": [
    "X = X.tocsr()"
   ]
  },
  {
   "cell_type": "code",
   "execution_count": 51,
   "metadata": {},
   "outputs": [],
   "source": [
    "import anndata"
   ]
  },
  {
   "cell_type": "code",
   "execution_count": null,
   "metadata": {},
   "outputs": [],
   "source": []
  },
  {
   "cell_type": "code",
   "execution_count": 58,
   "metadata": {},
   "outputs": [
    {
     "name": "stderr",
     "output_type": "stream",
     "text": [
      "C:\\Users\\vale\\AppData\\Roaming\\Python\\Python37\\site-packages\\anndata\\_core\\anndata.py:119: ImplicitModificationWarning: Transforming to str index.\n",
      "  warnings.warn(\"Transforming to str index.\", ImplicitModificationWarning)\n"
     ]
    },
    {
     "data": {
      "text/plain": [
       "AnnData object with n_obs × n_vars = 36952 × 51251\n",
       "    obs: 'country', 'sentence', 'book'"
      ]
     },
     "execution_count": 58,
     "metadata": {},
     "output_type": "execute_result"
    }
   ],
   "source": [
    "adata = anndata.AnnData(X, obs = sentences, var = pd.DataFrame(index = unique_words))\n",
    "adata"
   ]
  },
  {
   "cell_type": "code",
   "execution_count": 59,
   "metadata": {},
   "outputs": [
    {
     "data": {
      "text/html": [
       "<div>\n",
       "<style scoped>\n",
       "    .dataframe tbody tr th:only-of-type {\n",
       "        vertical-align: middle;\n",
       "    }\n",
       "\n",
       "    .dataframe tbody tr th {\n",
       "        vertical-align: top;\n",
       "    }\n",
       "\n",
       "    .dataframe thead th {\n",
       "        text-align: right;\n",
       "    }\n",
       "</style>\n",
       "<table border=\"1\" class=\"dataframe\">\n",
       "  <thead>\n",
       "    <tr style=\"text-align: right;\">\n",
       "      <th></th>\n",
       "    </tr>\n",
       "  </thead>\n",
       "  <tbody>\n",
       "    <tr>\n",
       "      <th></th>\n",
       "    </tr>\n",
       "    <tr>\n",
       "      <th>David</th>\n",
       "    </tr>\n",
       "    <tr>\n",
       "      <th>DECLARATION</th>\n",
       "    </tr>\n",
       "    <tr>\n",
       "      <th>testoath</th>\n",
       "    </tr>\n",
       "    <tr>\n",
       "      <th>did</th>\n",
       "    </tr>\n",
       "    <tr>\n",
       "      <th>...</th>\n",
       "    </tr>\n",
       "    <tr>\n",
       "      <th>AngloIndians</th>\n",
       "    </tr>\n",
       "    <tr>\n",
       "      <th>decease</th>\n",
       "    </tr>\n",
       "    <tr>\n",
       "      <th>favorite</th>\n",
       "    </tr>\n",
       "    <tr>\n",
       "      <th>Albion</th>\n",
       "    </tr>\n",
       "    <tr>\n",
       "      <th>Either</th>\n",
       "    </tr>\n",
       "  </tbody>\n",
       "</table>\n",
       "<p>51251 rows × 0 columns</p>\n",
       "</div>"
      ],
      "text/plain": [
       "Empty DataFrame\n",
       "Columns: []\n",
       "Index: [, David, DECLARATION, testoath, did, season, avows, Vaccination, ballotboxes, lait, impotence, Jihchow, _Western, postingand, 30th_I, definitive, cabal, overlordship, triviality, uncommonSymptoms, fanciful, mouthpiece, Mongoliawas, 119, submit, nationality, periodDelaware, rammed, coercing, Ganado, 190445, plainness, criminals, Fitzgerald, Turati, dethrone, Governmentwithout, bullocks, Forward, exemplify, Laohsikai, 927, Caslav, lEglise, profound, Wisconsinwas, thoughtful, soul, Baboo, emigration, reëstablishing, gunner, smuggler, MCCLELLAN, Surgeon, straining, inhabitants, dens, Liangkuang, Kuanchukchuaimupal, Comte, paradise, Crisp, Friends, peninsular, adventurer, forgetit, landowners, Blisss, freshets, revoked, disinter, shareholders, Bouquet, Sarajevo, newlyacquired, 1393, 22677, _them_, singers, deerthis, Approaching, horsethieves, CAMPING, AbbasiaThe, dappui_, stampable, saturates, Siena, characteran, burns, Civilisation, criticise, affront, Battenberg, influencecontrary, bars, Fayette, stole, supporteduntil, ...]\n",
       "\n",
       "[51251 rows x 0 columns]"
      ]
     },
     "execution_count": 59,
     "metadata": {},
     "output_type": "execute_result"
    }
   ],
   "source": [
    "adata.var"
   ]
  },
  {
   "cell_type": "code",
   "execution_count": 60,
   "metadata": {},
   "outputs": [
    {
     "name": "stderr",
     "output_type": "stream",
     "text": [
      "... storing 'country' as categorical\n",
      "... storing 'sentence' as categorical\n",
      "... storing 'book' as categorical\n"
     ]
    }
   ],
   "source": [
    "adata.write('gutenberg_sentences.h5ad')"
   ]
  },
  {
   "cell_type": "code",
   "execution_count": 62,
   "metadata": {},
   "outputs": [
    {
     "name": "stdout",
     "output_type": "stream",
     "text": [
      " Volume in drive C is NVMe Drive\n",
      " Volume Serial Number is 9ACC-A435\n",
      "\n",
      " Directory of C:\\Users\\vale\\Google Drive\\Blog\\201229 Opinions on countries\\ubfest\n",
      "\n",
      "14/01/2021  23:26    <DIR>          .\n",
      "14/01/2021  23:26    <DIR>          ..\n",
      "14/01/2021  22:06    <DIR>          .ipynb_checkpoints\n",
      "14/01/2021  23:26            14,648 210114 Make word count matrix.ipynb\n",
      "14/01/2021  21:52            12,258 210114 Read txt data.ipynb\n",
      "14/01/2021  21:52        13,543,759 gutenberg_sentences.csv\n",
      "14/01/2021  23:26        46,736,848 gutenberg_sentences.h5ad\n",
      "14/01/2021  21:31    <DIR>          gutenbergtxts\n",
      "14/01/2021  21:31               146 README.md\n",
      "               5 File(s)     60,307,659 bytes\n",
      "               4 Dir(s)  65,917,775,872 bytes free\n"
     ]
    }
   ],
   "source": [
    "ls"
   ]
  },
  {
   "cell_type": "code",
   "execution_count": null,
   "metadata": {},
   "outputs": [],
   "source": []
  },
  {
   "cell_type": "code",
   "execution_count": null,
   "metadata": {},
   "outputs": [],
   "source": []
  },
  {
   "cell_type": "code",
   "execution_count": null,
   "metadata": {},
   "outputs": [],
   "source": []
  },
  {
   "cell_type": "code",
   "execution_count": null,
   "metadata": {},
   "outputs": [],
   "source": []
  }
 ],
 "metadata": {
  "kernelspec": {
   "display_name": "Python 3",
   "language": "python",
   "name": "python3"
  },
  "language_info": {
   "codemirror_mode": {
    "name": "ipython",
    "version": 3
   },
   "file_extension": ".py",
   "mimetype": "text/x-python",
   "name": "python",
   "nbconvert_exporter": "python",
   "pygments_lexer": "ipython3",
   "version": "3.7.4"
  }
 },
 "nbformat": 4,
 "nbformat_minor": 2
}
